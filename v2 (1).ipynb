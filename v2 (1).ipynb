{
 "cells": [
  {
   "cell_type": "code",
   "execution_count": 1,
   "id": "b7617252-3f35-473c-affe-3e91009e37e2",
   "metadata": {},
   "outputs": [],
   "source": [
    "\n",
    "\n",
    "import pandas as pd\n",
    "import numpy as np\n",
    "from sklearn.model_selection import train_test_split\n",
    "from tensorflow.keras.preprocessing.text import Tokenizer\n",
    "from tensorflow.keras.preprocessing.sequence import pad_sequences\n",
    "from sklearn.preprocessing import LabelEncoder\n",
    "\n",
    "# Load the dataset\n",
    "file_path = \"C:/Users/ghada/DL/data/train_data_from_txt.csv\"\n",
    "data = pd.read_csv(file_path)\n"
   ]
  },
  {
   "cell_type": "code",
   "execution_count": 2,
   "id": "13d2d443-0cfa-4ef8-a23f-1ecf90dae90f",
   "metadata": {},
   "outputs": [
    {
     "name": "stderr",
     "output_type": "stream",
     "text": [
      "[nltk_data] Downloading package stopwords to\n",
      "[nltk_data]     C:\\Users\\ghada\\AppData\\Roaming\\nltk_data...\n",
      "[nltk_data]   Package stopwords is already up-to-date!\n",
      "[nltk_data] Downloading package wordnet to\n",
      "[nltk_data]     C:\\Users\\ghada\\AppData\\Roaming\\nltk_data...\n",
      "[nltk_data]   Package wordnet is already up-to-date!\n"
     ]
    }
   ],
   "source": [
    "# 1. Text Preprocessing\n",
    "import re\n",
    "import nltk\n",
    "from nltk.corpus import stopwords\n",
    "from nltk.stem import WordNetLemmatizer\n",
    "\n",
    "nltk.download('stopwords')\n",
    "nltk.download('wordnet')\n",
    "\n",
    "stop_words = set(stopwords.words('english'))\n",
    "lemmatizer = WordNetLemmatizer()\n",
    "\n",
    "def preprocess_text(text):\n",
    "    # Convert to lowercase\n",
    "    text = text.lower()\n",
    "    # Remove special characters\n",
    "    text = re.sub(r'[^a-zA-Z\\s]', '', text)\n",
    "    # Tokenize and lemmatize\n",
    "    tokens = [lemmatizer.lemmatize(word) for word in text.split() if word not in stop_words]\n",
    "    return ' '.join(tokens)\n"
   ]
  },
  {
   "cell_type": "code",
   "execution_count": 3,
   "id": "ac955c44-0245-4177-bcbb-81cf69b5362d",
   "metadata": {},
   "outputs": [],
   "source": [
    "import pandas as pd\n",
    "import numpy as np\n",
    "from sklearn.model_selection import train_test_split\n",
    "from tensorflow.keras.preprocessing.text import Tokenizer\n",
    "from tensorflow.keras.preprocessing.sequence import pad_sequences\n",
    "from sklearn.preprocessing import LabelEncoder\n",
    "# Apply preprocessing to questions\n",
    "data['processed_question'] = data['question'].apply(preprocess_text)\n",
    "\n",
    "# Encode labels\n",
    "label_encoder = LabelEncoder()\n",
    "data['encoded_target'] = label_encoder.fit_transform(data['target'])\n",
    "labels = np.array(data['encoded_target'])\n",
    "\n",
    "# 3. Tokenization and Padding\n",
    "# Tokenize the text\n",
    "tokenizer = Tokenizer(num_words=10000, oov_token='<OOV>')\n",
    "tokenizer.fit_on_texts(data['processed_question'])\n",
    "word_index = tokenizer.word_index\n",
    "\n",
    "# Convert text to sequences\n",
    "sequences = tokenizer.texts_to_sequences(data['processed_question'])\n",
    "\n",
    "# Pad sequences to ensure uniform length\n",
    "max_length = 50  # Adjust as needed\n",
    "padded_sequences = pad_sequences(sequences, maxlen=max_length, padding='post', truncating='post')\n",
    "\n"
   ]
  },
  {
   "cell_type": "code",
   "execution_count": 11,
   "id": "12cedb63-a83a-4750-a536-6e2d9009e755",
   "metadata": {},
   "outputs": [
    {
     "name": "stdout",
     "output_type": "stream",
     "text": [
      "Training Data Shape: (12361, 50)\n",
      "Validation Data Shape: (3091, 50)\n"
     ]
    }
   ],
   "source": [
    "# Split data into training and validation sets\n",
    "X_train, X_val, y_train, y_val = train_test_split(\n",
    "    padded_sequences, labels, test_size=0.2, random_state=42\n",
    ")\n",
    "\n",
    "# Check shapes\n",
    "print(\"Training Data Shape:\", X_train.shape)\n",
    "print(\"Validation Data Shape:\", X_val.shape)"
   ]
  },
  {
   "cell_type": "code",
   "execution_count": 13,
   "id": "403b99d5-d4d2-41b5-8c37-4d2fa566fba5",
   "metadata": {},
   "outputs": [],
   "source": [
    "import pandas as pd\n",
    "import re\n",
    "import nltk\n",
    "from nltk.corpus import stopwords\n",
    "from nltk.stem import WordNetLemmatizer\n",
    "from tensorflow.keras.models import Sequential\n",
    "from tensorflow.keras.layers import Embedding, Bidirectional, GRU, Dense, Dropout\n",
    "from tensorflow.keras.preprocessing.text import Tokenizer\n",
    "from tensorflow.keras.preprocessing.sequence import pad_sequences\n",
    "from tensorflow.keras.optimizers import Adam\n",
    "from sklearn.preprocessing import LabelEncoder\n",
    "from sklearn.model_selection import train_test_split\n",
    "import numpy as np\n",
    "model = Sequential()\n",
    "model.add(Embedding(input_dim=10000, output_dim=128))  # Embedding layer\n",
    "model.add(Bidirectional(GRU(64, return_sequences=True)))  # Bi-GRU layer\n",
    "model.add(Dropout(0.5))  # Dropout to prevent overfitting\n",
    "model.add(Bidirectional(GRU(64)))  # Another Bi-GRU layer\n",
    "model.add(Dense(64, activation='relu'))  # Dense layer\n",
    "model.add(Dropout(0.5))  # Dropout\n",
    "model.add(Dense(len(np.unique(labels)), activation='softmax'))  # Output layer"
   ]
  },
  {
   "cell_type": "code",
   "execution_count": 14,
   "id": "6a9e1837-7217-49d4-b815-6c9b4a99fd30",
   "metadata": {},
   "outputs": [],
   "source": [
    "model.compile(optimizer=Adam(learning_rate=0.001), \n",
    "              loss='sparse_categorical_crossentropy', \n",
    "              metrics=['accuracy'])"
   ]
  },
  {
   "cell_type": "code",
   "execution_count": 15,
   "id": "3dc8a3aa-e3e5-48b5-be1f-8c00792b59a7",
   "metadata": {},
   "outputs": [
    {
     "data": {
      "text/html": [
       "<pre style=\"white-space:pre;overflow-x:auto;line-height:normal;font-family:Menlo,'DejaVu Sans Mono',consolas,'Courier New',monospace\"><span style=\"font-weight: bold\">Model: \"sequential_2\"</span>\n",
       "</pre>\n"
      ],
      "text/plain": [
       "\u001b[1mModel: \"sequential_2\"\u001b[0m\n"
      ]
     },
     "metadata": {},
     "output_type": "display_data"
    },
    {
     "data": {
      "text/html": [
       "<pre style=\"white-space:pre;overflow-x:auto;line-height:normal;font-family:Menlo,'DejaVu Sans Mono',consolas,'Courier New',monospace\">┏━━━━━━━━━━━━━━━━━━━━━━━━━━━━━━━━━┳━━━━━━━━━━━━━━━━━━━━━━━━┳━━━━━━━━━━━━━━━┓\n",
       "┃<span style=\"font-weight: bold\"> Layer (type)                    </span>┃<span style=\"font-weight: bold\"> Output Shape           </span>┃<span style=\"font-weight: bold\">       Param # </span>┃\n",
       "┡━━━━━━━━━━━━━━━━━━━━━━━━━━━━━━━━━╇━━━━━━━━━━━━━━━━━━━━━━━━╇━━━━━━━━━━━━━━━┩\n",
       "│ embedding_2 (<span style=\"color: #0087ff; text-decoration-color: #0087ff\">Embedding</span>)         │ ?                      │   <span style=\"color: #00af00; text-decoration-color: #00af00\">0</span> (unbuilt) │\n",
       "├─────────────────────────────────┼────────────────────────┼───────────────┤\n",
       "│ bidirectional_4 (<span style=\"color: #0087ff; text-decoration-color: #0087ff\">Bidirectional</span>) │ ?                      │   <span style=\"color: #00af00; text-decoration-color: #00af00\">0</span> (unbuilt) │\n",
       "├─────────────────────────────────┼────────────────────────┼───────────────┤\n",
       "│ dropout_4 (<span style=\"color: #0087ff; text-decoration-color: #0087ff\">Dropout</span>)             │ ?                      │             <span style=\"color: #00af00; text-decoration-color: #00af00\">0</span> │\n",
       "├─────────────────────────────────┼────────────────────────┼───────────────┤\n",
       "│ bidirectional_5 (<span style=\"color: #0087ff; text-decoration-color: #0087ff\">Bidirectional</span>) │ ?                      │   <span style=\"color: #00af00; text-decoration-color: #00af00\">0</span> (unbuilt) │\n",
       "├─────────────────────────────────┼────────────────────────┼───────────────┤\n",
       "│ dense_3 (<span style=\"color: #0087ff; text-decoration-color: #0087ff\">Dense</span>)                 │ ?                      │   <span style=\"color: #00af00; text-decoration-color: #00af00\">0</span> (unbuilt) │\n",
       "├─────────────────────────────────┼────────────────────────┼───────────────┤\n",
       "│ dropout_5 (<span style=\"color: #0087ff; text-decoration-color: #0087ff\">Dropout</span>)             │ ?                      │             <span style=\"color: #00af00; text-decoration-color: #00af00\">0</span> │\n",
       "├─────────────────────────────────┼────────────────────────┼───────────────┤\n",
       "│ dense_4 (<span style=\"color: #0087ff; text-decoration-color: #0087ff\">Dense</span>)                 │ ?                      │   <span style=\"color: #00af00; text-decoration-color: #00af00\">0</span> (unbuilt) │\n",
       "└─────────────────────────────────┴────────────────────────┴───────────────┘\n",
       "</pre>\n"
      ],
      "text/plain": [
       "┏━━━━━━━━━━━━━━━━━━━━━━━━━━━━━━━━━┳━━━━━━━━━━━━━━━━━━━━━━━━┳━━━━━━━━━━━━━━━┓\n",
       "┃\u001b[1m \u001b[0m\u001b[1mLayer (type)                   \u001b[0m\u001b[1m \u001b[0m┃\u001b[1m \u001b[0m\u001b[1mOutput Shape          \u001b[0m\u001b[1m \u001b[0m┃\u001b[1m \u001b[0m\u001b[1m      Param #\u001b[0m\u001b[1m \u001b[0m┃\n",
       "┡━━━━━━━━━━━━━━━━━━━━━━━━━━━━━━━━━╇━━━━━━━━━━━━━━━━━━━━━━━━╇━━━━━━━━━━━━━━━┩\n",
       "│ embedding_2 (\u001b[38;5;33mEmbedding\u001b[0m)         │ ?                      │   \u001b[38;5;34m0\u001b[0m (unbuilt) │\n",
       "├─────────────────────────────────┼────────────────────────┼───────────────┤\n",
       "│ bidirectional_4 (\u001b[38;5;33mBidirectional\u001b[0m) │ ?                      │   \u001b[38;5;34m0\u001b[0m (unbuilt) │\n",
       "├─────────────────────────────────┼────────────────────────┼───────────────┤\n",
       "│ dropout_4 (\u001b[38;5;33mDropout\u001b[0m)             │ ?                      │             \u001b[38;5;34m0\u001b[0m │\n",
       "├─────────────────────────────────┼────────────────────────┼───────────────┤\n",
       "│ bidirectional_5 (\u001b[38;5;33mBidirectional\u001b[0m) │ ?                      │   \u001b[38;5;34m0\u001b[0m (unbuilt) │\n",
       "├─────────────────────────────────┼────────────────────────┼───────────────┤\n",
       "│ dense_3 (\u001b[38;5;33mDense\u001b[0m)                 │ ?                      │   \u001b[38;5;34m0\u001b[0m (unbuilt) │\n",
       "├─────────────────────────────────┼────────────────────────┼───────────────┤\n",
       "│ dropout_5 (\u001b[38;5;33mDropout\u001b[0m)             │ ?                      │             \u001b[38;5;34m0\u001b[0m │\n",
       "├─────────────────────────────────┼────────────────────────┼───────────────┤\n",
       "│ dense_4 (\u001b[38;5;33mDense\u001b[0m)                 │ ?                      │   \u001b[38;5;34m0\u001b[0m (unbuilt) │\n",
       "└─────────────────────────────────┴────────────────────────┴───────────────┘\n"
      ]
     },
     "metadata": {},
     "output_type": "display_data"
    },
    {
     "data": {
      "text/html": [
       "<pre style=\"white-space:pre;overflow-x:auto;line-height:normal;font-family:Menlo,'DejaVu Sans Mono',consolas,'Courier New',monospace\"><span style=\"font-weight: bold\"> Total params: </span><span style=\"color: #00af00; text-decoration-color: #00af00\">0</span> (0.00 B)\n",
       "</pre>\n"
      ],
      "text/plain": [
       "\u001b[1m Total params: \u001b[0m\u001b[38;5;34m0\u001b[0m (0.00 B)\n"
      ]
     },
     "metadata": {},
     "output_type": "display_data"
    },
    {
     "data": {
      "text/html": [
       "<pre style=\"white-space:pre;overflow-x:auto;line-height:normal;font-family:Menlo,'DejaVu Sans Mono',consolas,'Courier New',monospace\"><span style=\"font-weight: bold\"> Trainable params: </span><span style=\"color: #00af00; text-decoration-color: #00af00\">0</span> (0.00 B)\n",
       "</pre>\n"
      ],
      "text/plain": [
       "\u001b[1m Trainable params: \u001b[0m\u001b[38;5;34m0\u001b[0m (0.00 B)\n"
      ]
     },
     "metadata": {},
     "output_type": "display_data"
    },
    {
     "data": {
      "text/html": [
       "<pre style=\"white-space:pre;overflow-x:auto;line-height:normal;font-family:Menlo,'DejaVu Sans Mono',consolas,'Courier New',monospace\"><span style=\"font-weight: bold\"> Non-trainable params: </span><span style=\"color: #00af00; text-decoration-color: #00af00\">0</span> (0.00 B)\n",
       "</pre>\n"
      ],
      "text/plain": [
       "\u001b[1m Non-trainable params: \u001b[0m\u001b[38;5;34m0\u001b[0m (0.00 B)\n"
      ]
     },
     "metadata": {},
     "output_type": "display_data"
    }
   ],
   "source": [
    "model.summary()"
   ]
  },
  {
   "cell_type": "code",
   "execution_count": null,
   "id": "833c068b-5566-42ff-a137-bb00ff3419e8",
   "metadata": {},
   "outputs": [],
   "source": []
  },
  {
   "cell_type": "code",
   "execution_count": 16,
   "id": "ca878040-94d9-4ac7-b14b-ad2e23616f71",
   "metadata": {},
   "outputs": [
    {
     "name": "stdout",
     "output_type": "stream",
     "text": [
      "Epoch 1/100\n",
      "\u001b[1m387/387\u001b[0m \u001b[32m━━━━━━━━━━━━━━━━━━━━\u001b[0m\u001b[37m\u001b[0m \u001b[1m16s\u001b[0m 29ms/step - accuracy: 0.6989 - loss: 0.7824 - val_accuracy: 0.9926 - val_loss: 0.0276\n",
      "Epoch 2/100\n",
      "\u001b[1m387/387\u001b[0m \u001b[32m━━━━━━━━━━━━━━━━━━━━\u001b[0m\u001b[37m\u001b[0m \u001b[1m11s\u001b[0m 27ms/step - accuracy: 0.9974 - loss: 0.0147 - val_accuracy: 0.9935 - val_loss: 0.0234\n",
      "Epoch 3/100\n",
      "\u001b[1m387/387\u001b[0m \u001b[32m━━━━━━━━━━━━━━━━━━━━\u001b[0m\u001b[37m\u001b[0m \u001b[1m11s\u001b[0m 27ms/step - accuracy: 0.9991 - loss: 0.0044 - val_accuracy: 0.9926 - val_loss: 0.0286\n",
      "Epoch 4/100\n",
      "\u001b[1m387/387\u001b[0m \u001b[32m━━━━━━━━━━━━━━━━━━━━\u001b[0m\u001b[37m\u001b[0m \u001b[1m11s\u001b[0m 29ms/step - accuracy: 0.9988 - loss: 0.0037 - val_accuracy: 0.9903 - val_loss: 0.0565\n",
      "Epoch 5/100\n",
      "\u001b[1m387/387\u001b[0m \u001b[32m━━━━━━━━━━━━━━━━━━━━\u001b[0m\u001b[37m\u001b[0m \u001b[1m11s\u001b[0m 29ms/step - accuracy: 0.9972 - loss: 0.0084 - val_accuracy: 0.9945 - val_loss: 0.0327\n",
      "Epoch 6/100\n",
      "\u001b[1m387/387\u001b[0m \u001b[32m━━━━━━━━━━━━━━━━━━━━\u001b[0m\u001b[37m\u001b[0m \u001b[1m12s\u001b[0m 30ms/step - accuracy: 0.9997 - loss: 0.0019 - val_accuracy: 0.9932 - val_loss: 0.0504\n",
      "Epoch 7/100\n",
      "\u001b[1m387/387\u001b[0m \u001b[32m━━━━━━━━━━━━━━━━━━━━\u001b[0m\u001b[37m\u001b[0m \u001b[1m11s\u001b[0m 29ms/step - accuracy: 0.9996 - loss: 0.0023 - val_accuracy: 0.9929 - val_loss: 0.0538\n",
      "Epoch 8/100\n",
      "\u001b[1m387/387\u001b[0m \u001b[32m━━━━━━━━━━━━━━━━━━━━\u001b[0m\u001b[37m\u001b[0m \u001b[1m12s\u001b[0m 31ms/step - accuracy: 1.0000 - loss: 8.4178e-04 - val_accuracy: 0.9929 - val_loss: 0.0590\n",
      "Epoch 9/100\n",
      "\u001b[1m387/387\u001b[0m \u001b[32m━━━━━━━━━━━━━━━━━━━━\u001b[0m\u001b[37m\u001b[0m \u001b[1m12s\u001b[0m 32ms/step - accuracy: 1.0000 - loss: 4.5984e-04 - val_accuracy: 0.9906 - val_loss: 0.0589\n",
      "Epoch 10/100\n",
      "\u001b[1m387/387\u001b[0m \u001b[32m━━━━━━━━━━━━━━━━━━━━\u001b[0m\u001b[37m\u001b[0m \u001b[1m12s\u001b[0m 31ms/step - accuracy: 1.0000 - loss: 4.8087e-04 - val_accuracy: 0.9922 - val_loss: 0.0670\n",
      "Epoch 11/100\n",
      "\u001b[1m387/387\u001b[0m \u001b[32m━━━━━━━━━━━━━━━━━━━━\u001b[0m\u001b[37m\u001b[0m \u001b[1m11s\u001b[0m 29ms/step - accuracy: 0.9999 - loss: 3.4039e-04 - val_accuracy: 0.9926 - val_loss: 0.0731\n",
      "Epoch 12/100\n",
      "\u001b[1m387/387\u001b[0m \u001b[32m━━━━━━━━━━━━━━━━━━━━\u001b[0m\u001b[37m\u001b[0m \u001b[1m11s\u001b[0m 29ms/step - accuracy: 1.0000 - loss: 2.0700e-04 - val_accuracy: 0.9926 - val_loss: 0.0786\n",
      "Epoch 13/100\n",
      "\u001b[1m387/387\u001b[0m \u001b[32m━━━━━━━━━━━━━━━━━━━━\u001b[0m\u001b[37m\u001b[0m \u001b[1m12s\u001b[0m 30ms/step - accuracy: 1.0000 - loss: 1.7529e-04 - val_accuracy: 0.9926 - val_loss: 0.0820\n",
      "Epoch 14/100\n",
      "\u001b[1m387/387\u001b[0m \u001b[32m━━━━━━━━━━━━━━━━━━━━\u001b[0m\u001b[37m\u001b[0m \u001b[1m12s\u001b[0m 31ms/step - accuracy: 0.9978 - loss: 0.0088 - val_accuracy: 0.9929 - val_loss: 0.0529\n",
      "Epoch 15/100\n",
      "\u001b[1m387/387\u001b[0m \u001b[32m━━━━━━━━━━━━━━━━━━━━\u001b[0m\u001b[37m\u001b[0m \u001b[1m12s\u001b[0m 32ms/step - accuracy: 0.9991 - loss: 0.0036 - val_accuracy: 0.9935 - val_loss: 0.0540\n",
      "Epoch 16/100\n",
      "\u001b[1m387/387\u001b[0m \u001b[32m━━━━━━━━━━━━━━━━━━━━\u001b[0m\u001b[37m\u001b[0m \u001b[1m11s\u001b[0m 30ms/step - accuracy: 0.9988 - loss: 0.0036 - val_accuracy: 0.9919 - val_loss: 0.0680\n",
      "Epoch 17/100\n",
      "\u001b[1m387/387\u001b[0m \u001b[32m━━━━━━━━━━━━━━━━━━━━\u001b[0m\u001b[37m\u001b[0m \u001b[1m12s\u001b[0m 31ms/step - accuracy: 0.9990 - loss: 0.0042 - val_accuracy: 0.9935 - val_loss: 0.0644\n",
      "Epoch 18/100\n",
      "\u001b[1m387/387\u001b[0m \u001b[32m━━━━━━━━━━━━━━━━━━━━\u001b[0m\u001b[37m\u001b[0m \u001b[1m12s\u001b[0m 31ms/step - accuracy: 1.0000 - loss: 4.2614e-04 - val_accuracy: 0.9932 - val_loss: 0.0585\n",
      "Epoch 19/100\n",
      "\u001b[1m387/387\u001b[0m \u001b[32m━━━━━━━━━━━━━━━━━━━━\u001b[0m\u001b[37m\u001b[0m \u001b[1m12s\u001b[0m 31ms/step - accuracy: 0.9996 - loss: 5.2334e-04 - val_accuracy: 0.9932 - val_loss: 0.0577\n",
      "Epoch 20/100\n",
      "\u001b[1m387/387\u001b[0m \u001b[32m━━━━━━━━━━━━━━━━━━━━\u001b[0m\u001b[37m\u001b[0m \u001b[1m12s\u001b[0m 30ms/step - accuracy: 0.9999 - loss: 2.1595e-04 - val_accuracy: 0.9935 - val_loss: 0.0744\n",
      "Epoch 21/100\n",
      "\u001b[1m387/387\u001b[0m \u001b[32m━━━━━━━━━━━━━━━━━━━━\u001b[0m\u001b[37m\u001b[0m \u001b[1m12s\u001b[0m 30ms/step - accuracy: 0.9998 - loss: 0.0021 - val_accuracy: 0.9922 - val_loss: 0.0844\n",
      "Epoch 22/100\n",
      "\u001b[1m387/387\u001b[0m \u001b[32m━━━━━━━━━━━━━━━━━━━━\u001b[0m\u001b[37m\u001b[0m \u001b[1m12s\u001b[0m 31ms/step - accuracy: 1.0000 - loss: 5.8801e-04 - val_accuracy: 0.9922 - val_loss: 0.0868\n",
      "Epoch 23/100\n",
      "\u001b[1m387/387\u001b[0m \u001b[32m━━━━━━━━━━━━━━━━━━━━\u001b[0m\u001b[37m\u001b[0m \u001b[1m12s\u001b[0m 31ms/step - accuracy: 0.9997 - loss: 5.5318e-04 - val_accuracy: 0.9939 - val_loss: 0.0918\n",
      "Epoch 24/100\n",
      "\u001b[1m387/387\u001b[0m \u001b[32m━━━━━━━━━━━━━━━━━━━━\u001b[0m\u001b[37m\u001b[0m \u001b[1m12s\u001b[0m 32ms/step - accuracy: 0.9992 - loss: 0.0035 - val_accuracy: 0.9951 - val_loss: 0.0445\n",
      "Epoch 25/100\n",
      "\u001b[1m387/387\u001b[0m \u001b[32m━━━━━━━━━━━━━━━━━━━━\u001b[0m\u001b[37m\u001b[0m \u001b[1m12s\u001b[0m 31ms/step - accuracy: 0.9996 - loss: 0.0014 - val_accuracy: 0.9945 - val_loss: 0.0583\n",
      "Epoch 26/100\n",
      "\u001b[1m387/387\u001b[0m \u001b[32m━━━━━━━━━━━━━━━━━━━━\u001b[0m\u001b[37m\u001b[0m \u001b[1m12s\u001b[0m 31ms/step - accuracy: 0.9998 - loss: 0.0017 - val_accuracy: 0.9939 - val_loss: 0.0592\n",
      "Epoch 27/100\n",
      "\u001b[1m387/387\u001b[0m \u001b[32m━━━━━━━━━━━━━━━━━━━━\u001b[0m\u001b[37m\u001b[0m \u001b[1m12s\u001b[0m 31ms/step - accuracy: 0.9994 - loss: 0.0010 - val_accuracy: 0.9955 - val_loss: 0.0720\n",
      "Epoch 28/100\n",
      "\u001b[1m387/387\u001b[0m \u001b[32m━━━━━━━━━━━━━━━━━━━━\u001b[0m\u001b[37m\u001b[0m \u001b[1m12s\u001b[0m 30ms/step - accuracy: 1.0000 - loss: 1.0050e-04 - val_accuracy: 0.9951 - val_loss: 0.0771\n",
      "Epoch 29/100\n",
      "\u001b[1m387/387\u001b[0m \u001b[32m━━━━━━━━━━━━━━━━━━━━\u001b[0m\u001b[37m\u001b[0m \u001b[1m12s\u001b[0m 30ms/step - accuracy: 0.9997 - loss: 7.8694e-04 - val_accuracy: 0.9948 - val_loss: 0.0789\n",
      "Epoch 30/100\n",
      "\u001b[1m387/387\u001b[0m \u001b[32m━━━━━━━━━━━━━━━━━━━━\u001b[0m\u001b[37m\u001b[0m \u001b[1m12s\u001b[0m 32ms/step - accuracy: 1.0000 - loss: 1.5509e-04 - val_accuracy: 0.9951 - val_loss: 0.0737\n",
      "Epoch 31/100\n",
      "\u001b[1m387/387\u001b[0m \u001b[32m━━━━━━━━━━━━━━━━━━━━\u001b[0m\u001b[37m\u001b[0m \u001b[1m12s\u001b[0m 30ms/step - accuracy: 0.9999 - loss: 4.2540e-04 - val_accuracy: 0.9951 - val_loss: 0.0727\n",
      "Epoch 32/100\n",
      "\u001b[1m387/387\u001b[0m \u001b[32m━━━━━━━━━━━━━━━━━━━━\u001b[0m\u001b[37m\u001b[0m \u001b[1m12s\u001b[0m 30ms/step - accuracy: 1.0000 - loss: 1.1505e-04 - val_accuracy: 0.9948 - val_loss: 0.0964\n",
      "Epoch 33/100\n",
      "\u001b[1m387/387\u001b[0m \u001b[32m━━━━━━━━━━━━━━━━━━━━\u001b[0m\u001b[37m\u001b[0m \u001b[1m12s\u001b[0m 30ms/step - accuracy: 0.9998 - loss: 2.7891e-04 - val_accuracy: 0.9942 - val_loss: 0.1075\n",
      "Epoch 34/100\n",
      "\u001b[1m387/387\u001b[0m \u001b[32m━━━━━━━━━━━━━━━━━━━━\u001b[0m\u001b[37m\u001b[0m \u001b[1m12s\u001b[0m 32ms/step - accuracy: 1.0000 - loss: 1.2603e-04 - val_accuracy: 0.9948 - val_loss: 0.0778\n",
      "Epoch 35/100\n",
      "\u001b[1m387/387\u001b[0m \u001b[32m━━━━━━━━━━━━━━━━━━━━\u001b[0m\u001b[37m\u001b[0m \u001b[1m12s\u001b[0m 30ms/step - accuracy: 0.9988 - loss: 0.0062 - val_accuracy: 0.9926 - val_loss: 0.0899\n",
      "Epoch 36/100\n",
      "\u001b[1m387/387\u001b[0m \u001b[32m━━━━━━━━━━━━━━━━━━━━\u001b[0m\u001b[37m\u001b[0m \u001b[1m12s\u001b[0m 31ms/step - accuracy: 0.9995 - loss: 0.0015 - val_accuracy: 0.9951 - val_loss: 0.0774\n",
      "Epoch 37/100\n",
      "\u001b[1m387/387\u001b[0m \u001b[32m━━━━━━━━━━━━━━━━━━━━\u001b[0m\u001b[37m\u001b[0m \u001b[1m12s\u001b[0m 31ms/step - accuracy: 0.9999 - loss: 3.9587e-04 - val_accuracy: 0.9948 - val_loss: 0.0771\n",
      "Epoch 38/100\n",
      "\u001b[1m387/387\u001b[0m \u001b[32m━━━━━━━━━━━━━━━━━━━━\u001b[0m\u001b[37m\u001b[0m \u001b[1m12s\u001b[0m 31ms/step - accuracy: 0.9999 - loss: 0.0014 - val_accuracy: 0.9964 - val_loss: 0.0927\n",
      "Epoch 39/100\n",
      "\u001b[1m387/387\u001b[0m \u001b[32m━━━━━━━━━━━━━━━━━━━━\u001b[0m\u001b[37m\u001b[0m \u001b[1m12s\u001b[0m 32ms/step - accuracy: 1.0000 - loss: 2.0106e-04 - val_accuracy: 0.9955 - val_loss: 0.0986\n",
      "Epoch 40/100\n",
      "\u001b[1m387/387\u001b[0m \u001b[32m━━━━━━━━━━━━━━━━━━━━\u001b[0m\u001b[37m\u001b[0m \u001b[1m12s\u001b[0m 32ms/step - accuracy: 1.0000 - loss: 9.1192e-05 - val_accuracy: 0.9961 - val_loss: 0.0995\n",
      "Epoch 41/100\n",
      "\u001b[1m387/387\u001b[0m \u001b[32m━━━━━━━━━━━━━━━━━━━━\u001b[0m\u001b[37m\u001b[0m \u001b[1m12s\u001b[0m 30ms/step - accuracy: 1.0000 - loss: 9.1468e-05 - val_accuracy: 0.9942 - val_loss: 0.1299\n",
      "Epoch 42/100\n",
      "\u001b[1m387/387\u001b[0m \u001b[32m━━━━━━━━━━━━━━━━━━━━\u001b[0m\u001b[37m\u001b[0m \u001b[1m12s\u001b[0m 31ms/step - accuracy: 0.9997 - loss: 0.0018 - val_accuracy: 0.9951 - val_loss: 0.0972\n",
      "Epoch 43/100\n",
      "\u001b[1m387/387\u001b[0m \u001b[32m━━━━━━━━━━━━━━━━━━━━\u001b[0m\u001b[37m\u001b[0m \u001b[1m12s\u001b[0m 31ms/step - accuracy: 0.9999 - loss: 1.9867e-04 - val_accuracy: 0.9951 - val_loss: 0.0976\n",
      "Epoch 44/100\n",
      "\u001b[1m387/387\u001b[0m \u001b[32m━━━━━━━━━━━━━━━━━━━━\u001b[0m\u001b[37m\u001b[0m \u001b[1m11s\u001b[0m 29ms/step - accuracy: 0.9999 - loss: 8.9925e-04 - val_accuracy: 0.9945 - val_loss: 0.0970\n",
      "Epoch 45/100\n",
      "\u001b[1m387/387\u001b[0m \u001b[32m━━━━━━━━━━━━━━━━━━━━\u001b[0m\u001b[37m\u001b[0m \u001b[1m11s\u001b[0m 28ms/step - accuracy: 0.9998 - loss: 0.0026 - val_accuracy: 0.9948 - val_loss: 0.0659\n",
      "Epoch 46/100\n",
      "\u001b[1m387/387\u001b[0m \u001b[32m━━━━━━━━━━━━━━━━━━━━\u001b[0m\u001b[37m\u001b[0m \u001b[1m11s\u001b[0m 28ms/step - accuracy: 1.0000 - loss: 9.6183e-05 - val_accuracy: 0.9951 - val_loss: 0.0777\n",
      "Epoch 47/100\n",
      "\u001b[1m387/387\u001b[0m \u001b[32m━━━━━━━━━━━━━━━━━━━━\u001b[0m\u001b[37m\u001b[0m \u001b[1m11s\u001b[0m 29ms/step - accuracy: 0.9998 - loss: 7.2221e-04 - val_accuracy: 0.9945 - val_loss: 0.0986\n",
      "Epoch 48/100\n",
      "\u001b[1m387/387\u001b[0m \u001b[32m━━━━━━━━━━━━━━━━━━━━\u001b[0m\u001b[37m\u001b[0m \u001b[1m11s\u001b[0m 29ms/step - accuracy: 0.9992 - loss: 0.0032 - val_accuracy: 0.9964 - val_loss: 0.0760\n",
      "Epoch 49/100\n",
      "\u001b[1m387/387\u001b[0m \u001b[32m━━━━━━━━━━━━━━━━━━━━\u001b[0m\u001b[37m\u001b[0m \u001b[1m12s\u001b[0m 31ms/step - accuracy: 0.9997 - loss: 5.7431e-04 - val_accuracy: 0.9958 - val_loss: 0.0915\n",
      "Epoch 50/100\n",
      "\u001b[1m387/387\u001b[0m \u001b[32m━━━━━━━━━━━━━━━━━━━━\u001b[0m\u001b[37m\u001b[0m \u001b[1m12s\u001b[0m 31ms/step - accuracy: 1.0000 - loss: 5.0717e-05 - val_accuracy: 0.9958 - val_loss: 0.0954\n",
      "Epoch 51/100\n",
      "\u001b[1m387/387\u001b[0m \u001b[32m━━━━━━━━━━━━━━━━━━━━\u001b[0m\u001b[37m\u001b[0m \u001b[1m12s\u001b[0m 31ms/step - accuracy: 1.0000 - loss: 7.2620e-05 - val_accuracy: 0.9958 - val_loss: 0.1018\n",
      "Epoch 52/100\n",
      "\u001b[1m387/387\u001b[0m \u001b[32m━━━━━━━━━━━━━━━━━━━━\u001b[0m\u001b[37m\u001b[0m \u001b[1m11s\u001b[0m 28ms/step - accuracy: 1.0000 - loss: 2.4637e-05 - val_accuracy: 0.9958 - val_loss: 0.1022\n",
      "Epoch 53/100\n",
      "\u001b[1m387/387\u001b[0m \u001b[32m━━━━━━━━━━━━━━━━━━━━\u001b[0m\u001b[37m\u001b[0m \u001b[1m11s\u001b[0m 28ms/step - accuracy: 1.0000 - loss: 1.7884e-04 - val_accuracy: 0.9958 - val_loss: 0.1012\n",
      "Epoch 54/100\n",
      "\u001b[1m387/387\u001b[0m \u001b[32m━━━━━━━━━━━━━━━━━━━━\u001b[0m\u001b[37m\u001b[0m \u001b[1m11s\u001b[0m 29ms/step - accuracy: 1.0000 - loss: 1.2957e-04 - val_accuracy: 0.9958 - val_loss: 0.1012\n",
      "Epoch 55/100\n",
      "\u001b[1m387/387\u001b[0m \u001b[32m━━━━━━━━━━━━━━━━━━━━\u001b[0m\u001b[37m\u001b[0m \u001b[1m11s\u001b[0m 29ms/step - accuracy: 1.0000 - loss: 1.5378e-04 - val_accuracy: 0.9942 - val_loss: 0.1192\n",
      "Epoch 56/100\n",
      "\u001b[1m387/387\u001b[0m \u001b[32m━━━━━━━━━━━━━━━━━━━━\u001b[0m\u001b[37m\u001b[0m \u001b[1m12s\u001b[0m 31ms/step - accuracy: 0.9998 - loss: 0.0036 - val_accuracy: 0.9935 - val_loss: 0.0900\n",
      "Epoch 57/100\n",
      "\u001b[1m387/387\u001b[0m \u001b[32m━━━━━━━━━━━━━━━━━━━━\u001b[0m\u001b[37m\u001b[0m \u001b[1m12s\u001b[0m 32ms/step - accuracy: 0.9998 - loss: 3.7144e-04 - val_accuracy: 0.9948 - val_loss: 0.0805\n",
      "Epoch 58/100\n",
      "\u001b[1m387/387\u001b[0m \u001b[32m━━━━━━━━━━━━━━━━━━━━\u001b[0m\u001b[37m\u001b[0m \u001b[1m13s\u001b[0m 33ms/step - accuracy: 0.9999 - loss: 3.7008e-04 - val_accuracy: 0.9951 - val_loss: 0.0886\n",
      "Epoch 59/100\n",
      "\u001b[1m387/387\u001b[0m \u001b[32m━━━━━━━━━━━━━━━━━━━━\u001b[0m\u001b[37m\u001b[0m \u001b[1m12s\u001b[0m 32ms/step - accuracy: 0.9991 - loss: 0.0119 - val_accuracy: 0.9951 - val_loss: 0.0871\n",
      "Epoch 60/100\n",
      "\u001b[1m387/387\u001b[0m \u001b[32m━━━━━━━━━━━━━━━━━━━━\u001b[0m\u001b[37m\u001b[0m \u001b[1m12s\u001b[0m 32ms/step - accuracy: 0.9998 - loss: 5.3064e-04 - val_accuracy: 0.9948 - val_loss: 0.0872\n",
      "Epoch 61/100\n",
      "\u001b[1m387/387\u001b[0m \u001b[32m━━━━━━━━━━━━━━━━━━━━\u001b[0m\u001b[37m\u001b[0m \u001b[1m12s\u001b[0m 30ms/step - accuracy: 0.9999 - loss: 2.8196e-04 - val_accuracy: 0.9948 - val_loss: 0.0822\n",
      "Epoch 62/100\n",
      "\u001b[1m387/387\u001b[0m \u001b[32m━━━━━━━━━━━━━━━━━━━━\u001b[0m\u001b[37m\u001b[0m \u001b[1m12s\u001b[0m 30ms/step - accuracy: 1.0000 - loss: 2.0410e-04 - val_accuracy: 0.9951 - val_loss: 0.0718\n",
      "Epoch 63/100\n",
      "\u001b[1m387/387\u001b[0m \u001b[32m━━━━━━━━━━━━━━━━━━━━\u001b[0m\u001b[37m\u001b[0m \u001b[1m11s\u001b[0m 29ms/step - accuracy: 0.9999 - loss: 4.0330e-04 - val_accuracy: 0.9951 - val_loss: 0.0769\n",
      "Epoch 64/100\n",
      "\u001b[1m387/387\u001b[0m \u001b[32m━━━━━━━━━━━━━━━━━━━━\u001b[0m\u001b[37m\u001b[0m \u001b[1m12s\u001b[0m 30ms/step - accuracy: 1.0000 - loss: 5.0370e-05 - val_accuracy: 0.9951 - val_loss: 0.0795\n",
      "Epoch 65/100\n",
      "\u001b[1m387/387\u001b[0m \u001b[32m━━━━━━━━━━━━━━━━━━━━\u001b[0m\u001b[37m\u001b[0m \u001b[1m12s\u001b[0m 31ms/step - accuracy: 1.0000 - loss: 6.7481e-05 - val_accuracy: 0.9948 - val_loss: 0.0834\n",
      "Epoch 66/100\n",
      "\u001b[1m387/387\u001b[0m \u001b[32m━━━━━━━━━━━━━━━━━━━━\u001b[0m\u001b[37m\u001b[0m \u001b[1m12s\u001b[0m 30ms/step - accuracy: 0.9995 - loss: 6.7288e-04 - val_accuracy: 0.9948 - val_loss: 0.1003\n",
      "Epoch 67/100\n",
      "\u001b[1m387/387\u001b[0m \u001b[32m━━━━━━━━━━━━━━━━━━━━\u001b[0m\u001b[37m\u001b[0m \u001b[1m12s\u001b[0m 30ms/step - accuracy: 1.0000 - loss: 4.3296e-05 - val_accuracy: 0.9955 - val_loss: 0.0987\n",
      "Epoch 68/100\n",
      "\u001b[1m387/387\u001b[0m \u001b[32m━━━━━━━━━━━━━━━━━━━━\u001b[0m\u001b[37m\u001b[0m \u001b[1m12s\u001b[0m 30ms/step - accuracy: 1.0000 - loss: 4.5144e-05 - val_accuracy: 0.9951 - val_loss: 0.1008\n",
      "Epoch 69/100\n",
      "\u001b[1m387/387\u001b[0m \u001b[32m━━━━━━━━━━━━━━━━━━━━\u001b[0m\u001b[37m\u001b[0m \u001b[1m12s\u001b[0m 30ms/step - accuracy: 1.0000 - loss: 1.7256e-04 - val_accuracy: 0.9955 - val_loss: 0.1004\n",
      "Epoch 70/100\n",
      "\u001b[1m387/387\u001b[0m \u001b[32m━━━━━━━━━━━━━━━━━━━━\u001b[0m\u001b[37m\u001b[0m \u001b[1m11s\u001b[0m 28ms/step - accuracy: 1.0000 - loss: 9.2126e-05 - val_accuracy: 0.9955 - val_loss: 0.1006\n",
      "Epoch 71/100\n",
      "\u001b[1m387/387\u001b[0m \u001b[32m━━━━━━━━━━━━━━━━━━━━\u001b[0m\u001b[37m\u001b[0m \u001b[1m11s\u001b[0m 29ms/step - accuracy: 1.0000 - loss: 4.8892e-05 - val_accuracy: 0.9955 - val_loss: 0.1138\n",
      "Epoch 72/100\n",
      "\u001b[1m387/387\u001b[0m \u001b[32m━━━━━━━━━━━━━━━━━━━━\u001b[0m\u001b[37m\u001b[0m \u001b[1m12s\u001b[0m 30ms/step - accuracy: 1.0000 - loss: 1.8815e-04 - val_accuracy: 0.9951 - val_loss: 0.1124\n",
      "Epoch 73/100\n",
      "\u001b[1m387/387\u001b[0m \u001b[32m━━━━━━━━━━━━━━━━━━━━\u001b[0m\u001b[37m\u001b[0m \u001b[1m11s\u001b[0m 30ms/step - accuracy: 1.0000 - loss: 2.3768e-05 - val_accuracy: 0.9951 - val_loss: 0.1149\n",
      "Epoch 74/100\n",
      "\u001b[1m387/387\u001b[0m \u001b[32m━━━━━━━━━━━━━━━━━━━━\u001b[0m\u001b[37m\u001b[0m \u001b[1m11s\u001b[0m 29ms/step - accuracy: 1.0000 - loss: 7.9381e-05 - val_accuracy: 0.9951 - val_loss: 0.1153\n",
      "Epoch 75/100\n",
      "\u001b[1m387/387\u001b[0m \u001b[32m━━━━━━━━━━━━━━━━━━━━\u001b[0m\u001b[37m\u001b[0m \u001b[1m12s\u001b[0m 30ms/step - accuracy: 0.9999 - loss: 2.0427e-04 - val_accuracy: 0.9951 - val_loss: 0.1152\n",
      "Epoch 76/100\n",
      "\u001b[1m387/387\u001b[0m \u001b[32m━━━━━━━━━━━━━━━━━━━━\u001b[0m\u001b[37m\u001b[0m \u001b[1m12s\u001b[0m 32ms/step - accuracy: 1.0000 - loss: 3.6536e-05 - val_accuracy: 0.9948 - val_loss: 0.1254\n",
      "Epoch 77/100\n",
      "\u001b[1m387/387\u001b[0m \u001b[32m━━━━━━━━━━━━━━━━━━━━\u001b[0m\u001b[37m\u001b[0m \u001b[1m12s\u001b[0m 30ms/step - accuracy: 0.9999 - loss: 5.6321e-05 - val_accuracy: 0.9951 - val_loss: 0.1229\n",
      "Epoch 78/100\n",
      "\u001b[1m387/387\u001b[0m \u001b[32m━━━━━━━━━━━━━━━━━━━━\u001b[0m\u001b[37m\u001b[0m \u001b[1m12s\u001b[0m 31ms/step - accuracy: 1.0000 - loss: 2.9183e-05 - val_accuracy: 0.9948 - val_loss: 0.1175\n",
      "Epoch 79/100\n",
      "\u001b[1m387/387\u001b[0m \u001b[32m━━━━━━━━━━━━━━━━━━━━\u001b[0m\u001b[37m\u001b[0m \u001b[1m12s\u001b[0m 31ms/step - accuracy: 1.0000 - loss: 7.2764e-05 - val_accuracy: 0.9948 - val_loss: 0.1150\n",
      "Epoch 80/100\n",
      "\u001b[1m387/387\u001b[0m \u001b[32m━━━━━━━━━━━━━━━━━━━━\u001b[0m\u001b[37m\u001b[0m \u001b[1m12s\u001b[0m 31ms/step - accuracy: 1.0000 - loss: 2.4228e-05 - val_accuracy: 0.9951 - val_loss: 0.1454\n",
      "Epoch 81/100\n",
      "\u001b[1m387/387\u001b[0m \u001b[32m━━━━━━━━━━━━━━━━━━━━\u001b[0m\u001b[37m\u001b[0m \u001b[1m12s\u001b[0m 32ms/step - accuracy: 0.9998 - loss: 5.6431e-04 - val_accuracy: 0.9948 - val_loss: 0.1296\n",
      "Epoch 82/100\n",
      "\u001b[1m387/387\u001b[0m \u001b[32m━━━━━━━━━━━━━━━━━━━━\u001b[0m\u001b[37m\u001b[0m \u001b[1m12s\u001b[0m 30ms/step - accuracy: 0.9997 - loss: 0.0011 - val_accuracy: 0.9951 - val_loss: 0.1113\n",
      "Epoch 83/100\n",
      "\u001b[1m387/387\u001b[0m \u001b[32m━━━━━━━━━━━━━━━━━━━━\u001b[0m\u001b[37m\u001b[0m \u001b[1m12s\u001b[0m 30ms/step - accuracy: 1.0000 - loss: 1.4018e-04 - val_accuracy: 0.9951 - val_loss: 0.1160\n",
      "Epoch 84/100\n",
      "\u001b[1m387/387\u001b[0m \u001b[32m━━━━━━━━━━━━━━━━━━━━\u001b[0m\u001b[37m\u001b[0m \u001b[1m11s\u001b[0m 29ms/step - accuracy: 0.9999 - loss: 2.6194e-04 - val_accuracy: 0.9951 - val_loss: 0.1430\n",
      "Epoch 85/100\n",
      "\u001b[1m387/387\u001b[0m \u001b[32m━━━━━━━━━━━━━━━━━━━━\u001b[0m\u001b[37m\u001b[0m \u001b[1m11s\u001b[0m 28ms/step - accuracy: 0.9997 - loss: 0.0023 - val_accuracy: 0.9958 - val_loss: 0.1228\n",
      "Epoch 86/100\n",
      "\u001b[1m387/387\u001b[0m \u001b[32m━━━━━━━━━━━━━━━━━━━━\u001b[0m\u001b[37m\u001b[0m \u001b[1m12s\u001b[0m 30ms/step - accuracy: 0.9997 - loss: 0.0012 - val_accuracy: 0.9945 - val_loss: 0.1148\n",
      "Epoch 87/100\n",
      "\u001b[1m387/387\u001b[0m \u001b[32m━━━━━━━━━━━━━━━━━━━━\u001b[0m\u001b[37m\u001b[0m \u001b[1m12s\u001b[0m 31ms/step - accuracy: 1.0000 - loss: 6.0712e-05 - val_accuracy: 0.9951 - val_loss: 0.0983\n",
      "Epoch 88/100\n",
      "\u001b[1m387/387\u001b[0m \u001b[32m━━━━━━━━━━━━━━━━━━━━\u001b[0m\u001b[37m\u001b[0m \u001b[1m12s\u001b[0m 31ms/step - accuracy: 0.9994 - loss: 0.0038 - val_accuracy: 0.9939 - val_loss: 0.0802\n",
      "Epoch 89/100\n",
      "\u001b[1m387/387\u001b[0m \u001b[32m━━━━━━━━━━━━━━━━━━━━\u001b[0m\u001b[37m\u001b[0m \u001b[1m12s\u001b[0m 31ms/step - accuracy: 0.9995 - loss: 0.0011 - val_accuracy: 0.9958 - val_loss: 0.0800\n",
      "Epoch 90/100\n",
      "\u001b[1m387/387\u001b[0m \u001b[32m━━━━━━━━━━━━━━━━━━━━\u001b[0m\u001b[37m\u001b[0m \u001b[1m12s\u001b[0m 31ms/step - accuracy: 0.9999 - loss: 7.9203e-04 - val_accuracy: 0.9945 - val_loss: 0.1001\n",
      "Epoch 91/100\n",
      "\u001b[1m387/387\u001b[0m \u001b[32m━━━━━━━━━━━━━━━━━━━━\u001b[0m\u001b[37m\u001b[0m \u001b[1m12s\u001b[0m 31ms/step - accuracy: 1.0000 - loss: 9.1032e-05 - val_accuracy: 0.9945 - val_loss: 0.1015\n",
      "Epoch 92/100\n",
      "\u001b[1m387/387\u001b[0m \u001b[32m━━━━━━━━━━━━━━━━━━━━\u001b[0m\u001b[37m\u001b[0m \u001b[1m12s\u001b[0m 30ms/step - accuracy: 0.9997 - loss: 0.0034 - val_accuracy: 0.9955 - val_loss: 0.1065\n",
      "Epoch 93/100\n",
      "\u001b[1m387/387\u001b[0m \u001b[32m━━━━━━━━━━━━━━━━━━━━\u001b[0m\u001b[37m\u001b[0m \u001b[1m12s\u001b[0m 30ms/step - accuracy: 0.9999 - loss: 3.1020e-04 - val_accuracy: 0.9951 - val_loss: 0.1115\n",
      "Epoch 94/100\n",
      "\u001b[1m387/387\u001b[0m \u001b[32m━━━━━━━━━━━━━━━━━━━━\u001b[0m\u001b[37m\u001b[0m \u001b[1m12s\u001b[0m 31ms/step - accuracy: 1.0000 - loss: 8.6627e-05 - val_accuracy: 0.9951 - val_loss: 0.1132\n",
      "Epoch 95/100\n",
      "\u001b[1m387/387\u001b[0m \u001b[32m━━━━━━━━━━━━━━━━━━━━\u001b[0m\u001b[37m\u001b[0m \u001b[1m12s\u001b[0m 30ms/step - accuracy: 0.9999 - loss: 1.0424e-04 - val_accuracy: 0.9951 - val_loss: 0.1120\n",
      "Epoch 96/100\n",
      "\u001b[1m387/387\u001b[0m \u001b[32m━━━━━━━━━━━━━━━━━━━━\u001b[0m\u001b[37m\u001b[0m \u001b[1m12s\u001b[0m 30ms/step - accuracy: 1.0000 - loss: 1.1193e-04 - val_accuracy: 0.9955 - val_loss: 0.1186\n",
      "Epoch 97/100\n",
      "\u001b[1m387/387\u001b[0m \u001b[32m━━━━━━━━━━━━━━━━━━━━\u001b[0m\u001b[37m\u001b[0m \u001b[1m12s\u001b[0m 31ms/step - accuracy: 0.9999 - loss: 2.6810e-04 - val_accuracy: 0.9955 - val_loss: 0.1255\n",
      "Epoch 98/100\n",
      "\u001b[1m387/387\u001b[0m \u001b[32m━━━━━━━━━━━━━━━━━━━━\u001b[0m\u001b[37m\u001b[0m \u001b[1m12s\u001b[0m 31ms/step - accuracy: 0.9997 - loss: 7.8953e-04 - val_accuracy: 0.9955 - val_loss: 0.1174\n",
      "Epoch 99/100\n",
      "\u001b[1m387/387\u001b[0m \u001b[32m━━━━━━━━━━━━━━━━━━━━\u001b[0m\u001b[37m\u001b[0m \u001b[1m12s\u001b[0m 31ms/step - accuracy: 1.0000 - loss: 9.9033e-05 - val_accuracy: 0.9951 - val_loss: 0.1244\n",
      "Epoch 100/100\n",
      "\u001b[1m387/387\u001b[0m \u001b[32m━━━━━━━━━━━━━━━━━━━━\u001b[0m\u001b[37m\u001b[0m \u001b[1m12s\u001b[0m 30ms/step - accuracy: 1.0000 - loss: 3.9307e-05 - val_accuracy: 0.9951 - val_loss: 0.1313\n"
     ]
    }
   ],
   "source": [
    "history = model.fit(X_train, y_train, epochs=100, batch_size=32, validation_data=(X_val, y_val))"
   ]
  },
  {
   "cell_type": "code",
   "execution_count": null,
   "id": "9ea20ec1-fe6e-4656-86f4-e0e22b385628",
   "metadata": {},
   "outputs": [],
   "source": [
    "loss, accuracy = model.evaluate(X_val, y_val)\n",
    "print(f\"Test accuracy: {accuracy}\")"
   ]
  },
  {
   "cell_type": "code",
   "execution_count": null,
   "id": "96af5fc3-1469-40f7-b69f-0b05f1e8cffa",
   "metadata": {},
   "outputs": [],
   "source": [
    "def preprocess_input_text(text, tokenizer, max_length):\n",
    "    \"\"\"\n",
    "    Preprocess a single input text, tokenize, and pad it.\n",
    "    \"\"\"\n",
    "    # Preprocess the text\n",
    "    text = preprocess_text(text)\n",
    "    # Tokenize the text\n",
    "    sequence = tokenizer.texts_to_sequences([text])\n",
    "    # Pad the sequence\n",
    "    padded_sequence = pad_sequences(sequence, maxlen=max_length, padding='post', truncating='post')\n",
    "    return padded_sequence\n",
    "\n",
    "def predict_category(text, model, tokenizer, max_length, label_encoder):\n",
    "    \"\"\"\n",
    "    Predict the category of a given text using the trained model.\n",
    "    \"\"\"\n",
    "    # Preprocess the input text\n",
    "    padded_sequence = preprocess_input_text(text, tokenizer, max_length)\n",
    "    # Predict the category probabilities\n",
    "    predictions = model.predict(padded_sequence)\n",
    "    # Get the category index with the highest probability\n",
    "    predicted_index = np.argmax(predictions, axis=1)[0]\n",
    "    # Convert the index back to the category label\n",
    "    predicted_category = label_encoder.inverse_transform([predicted_index])[0]\n",
    "    return predicted_category\n"
   ]
  },
  {
   "cell_type": "code",
   "execution_count": null,
   "id": "cd337b01-6d34-4d72-8d47-0359f08661d3",
   "metadata": {},
   "outputs": [],
   "source": [
    "# Example questions to test the prediction function\n",
    "sample_questions = [\n",
    "    \"What is the capital of France?\",\n",
    "    \"How do I install Python on Windows?\",\n",
    "    \"Who won the 2020 Olympics?\",\n",
    "    \"Explain the theory of relativity.\"\n",
    "]\n",
    "\n",
    "print(\"Sample Predictions:\")\n",
    "for question in sample_questions:\n",
    "    predicted_category = predict_category(question, model, tokenizer, max_length, label_encoder)\n",
    "    print(f\"Question: {question}\")\n",
    "    print(f\"Predicted Category: {predicted_category}\")\n",
    "    print(\"-\" * 50)"
   ]
  }
 ],
 "metadata": {
  "kernelspec": {
   "display_name": "Python 3 (ipykernel)",
   "language": "python",
   "name": "python3"
  },
  "language_info": {
   "codemirror_mode": {
    "name": "ipython",
    "version": 3
   },
   "file_extension": ".py",
   "mimetype": "text/x-python",
   "name": "python",
   "nbconvert_exporter": "python",
   "pygments_lexer": "ipython3",
   "version": "3.12.7"
  }
 },
 "nbformat": 4,
 "nbformat_minor": 5
}
